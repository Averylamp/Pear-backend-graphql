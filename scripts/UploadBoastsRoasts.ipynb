{
 "cells": [
  {
   "cell_type": "code",
   "execution_count": 1,
   "metadata": {
    "collapsed": true
   },
   "outputs": [],
   "source": [
    "import firebase_admin\n",
    "from firebase_admin import credentials\n",
    "from firebase_admin import firestore\n",
    "from firebase_admin import auth\n",
    "\n",
    "cred = credentials.Certificate('../pear-firebase-adminsdk.json')\n",
    "firebase_admin.initialize_app(cred)\n",
    "\n",
    "db = firestore.client()"
   ]
  },
  {
   "cell_type": "code",
   "execution_count": 2,
   "metadata": {
    "collapsed": true
   },
   "outputs": [],
   "source": [
    "male_names = ['Michael', 'Jacob', 'Matthew', 'Joshua', 'Christopher', 'Nicholas', 'Brandon', 'Tyler', 'Andrew', 'Austin', 'Joseph', 'Daniel', 'David', 'William', 'John', 'Zachary', 'Ryan', 'James', 'Anthony', 'Justin', 'Jonathan', 'Alexander', 'Robert', 'Kyle', 'Dylan', 'Christian', 'Jordan', 'Samuel', 'Noah', 'Benjamin', 'Thomas', 'Kevin', 'Jose', 'Nathan', 'Cameron', 'Hunter', 'Aaron', 'Ethan', 'Eric', 'Jason', 'Brian', 'Caleb', 'Cody', 'Logan', 'Adam', 'Steven', 'Connor', 'Charles', 'Timothy', 'Sean', 'Jared', 'Juan', 'Luis', 'Gabriel', 'Richard', 'Alex', 'Patrick', 'Trevor', 'Isaiah', 'Nathaniel', 'Jack', 'Devin', 'Evan', 'Mark', 'Isaac', 'Elijah', 'Chase', 'Jeremy', 'Carlos', 'Jesse', 'Adrian', 'Dakota', 'Ian', 'Bryan', 'Luke', 'Jesus', 'Cole', 'Stephen', 'Antonio', 'Garrett', 'Angel', 'Tanner', 'Mason', 'Spencer', 'Blake', 'Kenneth', 'Seth', 'Dalton', 'Paul', 'Miguel', 'Jeffrey', 'Tristan', 'Lucas', 'Bryce', 'Alejandro', 'Marcus', 'Victor', 'Travis', 'Brendan', 'Jackson']\n",
    "female_names = ['Emily', 'Hannah', 'Samantha', 'Sarah', 'Ashley', 'Alexis', 'Taylor', 'Jessica', 'Madison', 'Elizabeth', 'Alyssa', 'Kayla', 'Megan', 'Lauren', 'Rachel', 'Victoria', 'Brianna', 'Abigail', 'Amanda', 'Jennifer', 'Olivia', 'Emma', 'Morgan', 'Nicole', 'Brittany', 'Jasmine', 'Alexandra', 'Sydney', 'Stephanie', 'Rebecca', 'Anna', 'Julia', 'Katherine', 'Destiny', 'Kaitlyn', 'Haley', 'Amber', 'Allison', 'Courtney', 'Natalie', 'Danielle', 'Jordan', 'Maria', 'Savannah', 'Mary', 'Brooke', 'Gabrielle', 'Sara', 'Shelby', 'Madeline', 'Sierra', 'Vanessa', 'Kimberly', 'Grace', 'Michelle', 'Kelsey', 'Erin', 'Katelyn', 'Melissa', 'Bailey', 'Andrea', 'Mariah', 'Paige', 'Mackenzie', 'Jenna', 'Marissa', 'Tiffany', 'Sabrina', 'Christina', 'Hailey', 'Makayla', 'Cheyenne', 'Sophia', 'Laura', 'Caroline', 'Breanna', 'Autumn', 'Caitlin', 'Briana', 'Miranda', 'Alexandria', 'Mikayla', 'Diana', 'Isabella', 'Cassandra', 'Kaylee', 'Chloe', 'Katie', 'Kelly', 'Kathryn', 'Claire', 'Erica', 'Alexa', 'Chelsea', 'Jacqueline', 'Amy', 'Lindsey', 'Alicia', 'Heather', 'Angel']"
   ]
  },
  {
   "cell_type": "code",
   "execution_count": 3,
   "metadata": {},
   "outputs": [
    {
     "name": "stdout",
     "output_type": "stream",
     "text": [
      "Document data: {} None\n"
     ]
    }
   ],
   "source": [
    "doc_ref = db.collection('latestRoastBoasts').document('EYPfAhBoH4aOTseTZJ45')\n",
    "\n",
    "try:\n",
    "    doc = doc_ref.get()\n",
    "    print('Document data: {}',format(doc.to_dict()))\n",
    "except google.cloud.exceptions.NotFound:\n",
    "    print('no such document')"
   ]
  },
  {
   "cell_type": "code",
   "execution_count": 5,
   "metadata": {
    "collapsed": true
   },
   "outputs": [],
   "source": [
    "import xlrd\n",
    "\n",
    "boasts_loc = ('/Users/bgu/pear/backend-graphql/content/boasts-clean.xlsx')\n",
    "roasts_loc = ('/Users/bgu/pear/backend-graphql/content/roasts-clean.xlsx')\n",
    "\n",
    "wb_boasts = xlrd.open_workbook(boasts_loc)\n",
    "wb_roasts = xlrd.open_workbook(roasts_loc)\n",
    "sheet_boasts = wb_boasts.sheet_by_index(0)\n",
    "sheet_roasts = wb_roasts.sheet_by_index(0)"
   ]
  },
  {
   "cell_type": "code",
   "execution_count": 6,
   "metadata": {},
   "outputs": [
    {
     "name": "stdout",
     "output_type": "stream",
     "text": [
      "43\n",
      "['has the voice of an angel', 'male', 'male']\n"
     ]
    }
   ],
   "source": [
    "print(sheet_boasts.nrows)\n",
    "print(sheet_boasts.row_values(0))"
   ]
  },
  {
   "cell_type": "code",
   "execution_count": 7,
   "metadata": {},
   "outputs": [
    {
     "name": "stdout",
     "output_type": "stream",
     "text": [
      "0\n",
      "1\n",
      "2\n",
      "3\n",
      "4\n",
      "5\n",
      "6\n",
      "7\n",
      "8\n",
      "9\n",
      "10\n",
      "11\n",
      "12\n",
      "13\n",
      "14\n",
      "15\n",
      "16\n",
      "17\n",
      "18\n",
      "19\n",
      "20\n",
      "21\n",
      "22\n",
      "23\n",
      "24\n",
      "25\n",
      "26\n",
      "27\n",
      "28\n",
      "29\n",
      "30\n",
      "31\n",
      "32\n",
      "33\n",
      "34\n",
      "35\n",
      "36\n",
      "37\n",
      "38\n",
      "39\n",
      "40\n",
      "41\n",
      "42\n"
     ]
    }
   ],
   "source": [
    "import random\n",
    "from firebase_admin import firestore\n",
    "\n",
    "for i in range(sheet_boasts.nrows):\n",
    "    new_boast_ref = db.collection('latestRoastBoasts').document()\n",
    "    creator_name = ''\n",
    "    if sheet_boasts.row_values(i)[1] == 'male':\n",
    "        creator_name = random.choice(male_names)\n",
    "    else:\n",
    "        creator_name = random.choice(female_names)\n",
    "    user_name = ''\n",
    "    if sheet_boasts.row_values(i)[2] == 'male':\n",
    "        user_name = random.choice(male_names)\n",
    "    else:\n",
    "        user_name = random.choice(female_names)\n",
    "\n",
    "    new_boast_ref.set({\n",
    "        'documentId': new_boast_ref.id,\n",
    "        'contentText': sheet_boasts.row_values(i)[0],\n",
    "        'type': 'boast',\n",
    "        'creatorGender': sheet_boasts.row_values(i)[1],\n",
    "        'userGender': sheet_boasts.row_values(i)[2],\n",
    "        'creatorFirstName': creator_name,\n",
    "        'userFirstName': user_name,\n",
    "        'timestamp': firestore.SERVER_TIMESTAMP\n",
    "    })\n",
    "    print(i)"
   ]
  },
  {
   "cell_type": "code",
   "execution_count": 8,
   "metadata": {},
   "outputs": [
    {
     "name": "stdout",
     "output_type": "stream",
     "text": [
      "0\n",
      "1\n",
      "2\n",
      "3\n",
      "4\n",
      "5\n",
      "6\n",
      "7\n",
      "8\n",
      "9\n",
      "10\n",
      "11\n",
      "12\n",
      "13\n",
      "14\n",
      "15\n",
      "16\n",
      "17\n",
      "18\n",
      "19\n",
      "20\n",
      "21\n",
      "22\n",
      "23\n",
      "24\n",
      "25\n",
      "26\n",
      "27\n",
      "28\n",
      "29\n",
      "30\n",
      "31\n",
      "32\n",
      "33\n",
      "34\n",
      "35\n",
      "36\n",
      "37\n",
      "38\n",
      "39\n",
      "40\n",
      "41\n",
      "42\n",
      "43\n",
      "44\n",
      "45\n",
      "46\n",
      "47\n",
      "48\n",
      "49\n",
      "50\n"
     ]
    }
   ],
   "source": [
    "for i in range(sheet_roasts.nrows):\n",
    "    new_roast_ref = db.collection('latestRoastBoasts').document()\n",
    "    creator_name = ''\n",
    "    if sheet_roasts.row_values(i)[1] == 'male':\n",
    "        creator_name = random.choice(male_names)\n",
    "    else:\n",
    "        creator_name = random.choice(female_names)\n",
    "    user_name = ''\n",
    "    if sheet_roasts.row_values(i)[2] == 'male':\n",
    "        user_name = random.choice(male_names)\n",
    "    else:\n",
    "        user_name = random.choice(female_names)\n",
    "\n",
    "    new_roast_ref.set({\n",
    "        'documentId': new_roast_ref.id,\n",
    "        'contentText': sheet_roasts.row_values(i)[0],\n",
    "        'type': 'roast',\n",
    "        'creatorGender': sheet_roasts.row_values(i)[1],\n",
    "        'userGender': sheet_roasts.row_values(i)[2],\n",
    "        'creatorFirstName': creator_name,\n",
    "        'userFirstName': user_name,\n",
    "        'timestamp': firestore.SERVER_TIMESTAMP\n",
    "    })\n",
    "    print(i)"
   ]
  },
  {
   "cell_type": "code",
   "execution_count": null,
   "metadata": {
    "collapsed": true
   },
   "outputs": [],
   "source": []
  }
 ],
 "metadata": {
  "kernelspec": {
   "display_name": "Python 3",
   "language": "python",
   "name": "python3"
  },
  "language_info": {
   "codemirror_mode": {
    "name": "ipython",
    "version": 3
   },
   "file_extension": ".py",
   "mimetype": "text/x-python",
   "name": "python",
   "nbconvert_exporter": "python",
   "pygments_lexer": "ipython3",
   "version": "3.6.1"
  }
 },
 "nbformat": 4,
 "nbformat_minor": 2
}
